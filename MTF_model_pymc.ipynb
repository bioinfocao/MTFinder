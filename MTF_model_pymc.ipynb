{
 "cells": [
  {
   "cell_type": "code",
   "execution_count": null,
   "id": "43756429",
   "metadata": {},
   "outputs": [],
   "source": [
    "# Prediction of master/key transcription factors based on following feature scores:\n",
    "# Transcriptome based EXP (log2 normalized TPM) and JSD (tissue specificity) scores\n",
    "# Epigenome based SERA (super enhancer regulatory activity) and MotifES (Motif Enrichment Score) scores\n",
    "# These feature scores can be generated with helper_Transcriptome_EXP_JSD_scores.ipynb and \n",
    "# helper_Epigenome_SERA_MotifES_scores.ipynb"
   ]
  },
  {
   "cell_type": "code",
   "execution_count": null,
   "id": "b8e24c05",
   "metadata": {},
   "outputs": [],
   "source": [
    "import arviz as az\n",
    "import matplotlib.pyplot as plt\n",
    "import numpy as np\n",
    "import pandas as pd\n",
    "from scipy.stats import norm"
   ]
  },
  {
   "cell_type": "code",
   "execution_count": null,
   "id": "69259b1a",
   "metadata": {},
   "outputs": [],
   "source": [
    "import pymc as pm\n",
    "# check pymc version\n",
    "print(f\"Running on PyMC version {pm.__version__}\")\n",
    "import pytensor\n",
    "import pytensor.tensor as at"
   ]
  },
  {
   "cell_type": "code",
   "execution_count": null,
   "id": "f1a3d3ac",
   "metadata": {},
   "outputs": [],
   "source": [
    "# load query's feature scores\n",
    "# generated with helper_Transcriptome_EXP_JSD_scores.ipynb and helper_Epigenome_SERA_MotifES_scores.ipynb\n",
    "query_tf_scores_df=pd.read_csv(\"query_combinedScores_SERA_MotifES_EXP_JSD.txt\",sep=\"\\t\")\n",
    "query_tf_scores_df.head()"
   ]
  },
  {
   "cell_type": "code",
   "execution_count": null,
   "id": "b6277398",
   "metadata": {},
   "outputs": [],
   "source": [
    "# get all Transcription factors' symbol\n",
    "TF_symbol_list=query_tf_scores_df[\"Symbol\"]"
   ]
  },
  {
   "cell_type": "code",
   "execution_count": null,
   "id": "4f9695ac",
   "metadata": {},
   "outputs": [],
   "source": [
    "# get query's feature scores\n",
    "SERA_data=np.array(query_tf_scores_df[\"query_SERA\"])\n",
    "MotifES_data=np.array(query_tf_scores_df[\"query_MotifES\"])\n",
    "EXP_data=np.array(query_tf_scores_df[\"query_EXP\"])\n",
    "JSD_data=np.array(query_tf_scores_df[\"query_JSD\"])"
   ]
  },
  {
   "cell_type": "code",
   "execution_count": null,
   "id": "fbe6f9cf",
   "metadata": {},
   "outputs": [],
   "source": [
    "# check histogram of data\n",
    "plt.hist(JSD_data)"
   ]
  },
  {
   "cell_type": "code",
   "execution_count": null,
   "id": "c3955b6f",
   "metadata": {},
   "outputs": [],
   "source": [
    "# setup MTFinder model\n",
    "with pm.Model() as mtf_model:\n",
    "    # this is the fraction that come from master TF vs normal TF,\n",
    "    # informative prior that about 10-20 master TFs in each cell/tissue\n",
    "    p = pm.Beta( \"p\", alpha=2 , beta=300)\n",
    "    # ensure p >= 0.001\n",
    "    p_min_potential = pm.Potential(\"p_min_potential\", at.switch(p < 0.001, -np.inf, 0))\n",
    "    cluster = pm.Bernoulli( \"ber\", p = p, shape=len(TF_symbol_list))\n",
    "\n",
    "    # precision with uniform prior\n",
    "    SERA_sigma = pm.Uniform('SERA_sigma', lower=0.0, upper=np.std(SERA_data)*3, shape=2)\n",
    "    MotifES_sigma = pm.Uniform('MotifES_sigma', lower=0.0, upper=np.std(MotifES_data)*3, shape=2)\n",
    "    EXP_sigma = pm.Uniform('EXP_sigma', lower=0.0, upper=np.std(EXP_data)*3, shape=2)\n",
    "    JSD_sigma = pm.Uniform('JSD_sigma', lower=0.0, upper=np.std(JSD_data)*3, shape=2)\n",
    "    \n",
    "    SERA_tau=pm.Deterministic('SERA_tau', SERA_sigma[cluster]**-2)\n",
    "    MotifES_tau=pm.Deterministic('MotifES_tau', MotifES_sigma[cluster]**-2)\n",
    "    EXP_tau=pm.Deterministic('EXP_tau', EXP_sigma[cluster]**-2)\n",
    "    JSD_tau=pm.Deterministic('JSD_tau', JSD_sigma[cluster]**-2)\n",
    "    \n",
    "    # mean with uniform prior\n",
    "    #SERA_mean=pm.Uniform(\"SERA_mean\", lower=min(SERA_data), upper=max(SERA_data), shape=2)\n",
    "    #MotifES_mean=pm.Uniform(\"MotifES_mean\", lower=min(MotifES_data), upper=max(MotifES_data), shape=2)\n",
    "    #EXP_mean=pm.Uniform(\"EXP_mean\", lower=min(EXP_data), upper=max(EXP_data), shape=2)\n",
    "    #JSD_mean=pm.Uniform(\"JSD_mean\", lower=min(JSD_data), upper=max(JSD_data), shape=2)\n",
    "    \n",
    "    # mean with normal prior\n",
    "    SERA_mean=pm.Normal(\"SERA_mean\", mu=np.mean(SERA_data), sigma=np.std(SERA_data)*2, shape=2)\n",
    "    MotifES_mean=pm.Normal(\"MotifES_mean\", mu=np.mean(MotifES_data), sigma=np.std(MotifES_data)*2, shape=2)\n",
    "    EXP_mean=pm.Normal(\"EXP_mean\", mu=np.mean(EXP_data), sigma=np.std(EXP_data)*2, shape=2)\n",
    "    JSD_mean=pm.Normal(\"JSD_mean\", mu=np.mean(JSD_data), sigma=np.std(JSD_data)*2, shape=2)\n",
    "    \n",
    "    # break symmetry\n",
    "    order_SERA_mean_potential = pm.Potential( \"order_SERA_mean_potential\", \n",
    "                                                at.switch(SERA_mean[1] - SERA_mean[0] < 0, -np.inf, 0) )\n",
    "    order_MotifES_mean_potential = pm.Potential( \"order_MotifES_mean_potential\", \n",
    "                                                at.switch(MotifES_mean[1] - MotifES_mean[0] < 0, -np.inf, 0) )\n",
    "    order_EXP_mean_potential = pm.Potential( \"order_EXP_mean_potential\", \n",
    "                                                at.switch(EXP_mean[1] - EXP_mean[0] < 0, -np.inf, 0) )\n",
    "    order_JSD_mean_potential = pm.Potential( \"order_JSD_mean_potential\", \n",
    "                                                at.switch(JSD_mean[1] - JSD_mean[0] < 0, -np.inf, 0) )\n",
    "    \n",
    "    SERA_mu = pm.Deterministic('SERA_mu', SERA_mean[cluster])\n",
    "    MotifES_mu = pm.Deterministic('MotifES_mu', MotifES_mean[cluster])\n",
    "    EXP_mu = pm.Deterministic('EXP_mu', EXP_mean[cluster])\n",
    "    JSD_mu = pm.Deterministic('JSD_mu', JSD_mean[cluster])\n",
    "    \n",
    "    # observed data\n",
    "    SERA_process = pm.Normal('SERA_process', mu=SERA_mu, tau=SERA_tau, observed=SERA_data)\n",
    "    MotifES_process = pm.Normal('MotifES_process', mu=MotifES_mu, tau=MotifES_tau, observed=MotifES_data)\n",
    "    EXP_process = pm.Normal('EXP_process', mu=EXP_mu, tau=EXP_tau, observed=EXP_data)\n",
    "    JSD_process = pm.Normal('JSD_process', mu=JSD_mu, tau=JSD_tau, observed=JSD_data)\n",
    "    "
   ]
  },
  {
   "cell_type": "code",
   "execution_count": null,
   "id": "47bb0a62",
   "metadata": {},
   "outputs": [],
   "source": [
    "# run MTFinder model\n",
    "with mtf_model:\n",
    "    # initialize in a reasonable place to reduce the number of steps required\n",
    "    start=pm.find_MAP()\n",
    "    start[\"p\"] = 0.01\n",
    "    # sigma\n",
    "    start[\"SERA_sigma\"] = np.array([np.std(SERA_data), np.std(SERA_data)])\n",
    "    start[\"MotifES_sigma\"] = np.array([np.std(MotifES_data), np.std(MotifES_data)])\n",
    "    start[\"EXP_sigma\"] = np.array([np.std(EXP_data), np.std(EXP_data)])\n",
    "    start[\"JSD_sigma\"] = np.array([np.std(JSD_data), np.std(JSD_data)])\n",
    "    # mean\n",
    "    start[\"SERA_mean\"] = np.array([np.mean(SERA_data), np.mean(SERA_data) + np.std(SERA_data)])\n",
    "    start[\"MotifES_mean\"] = np.array([np.mean(MotifES_data), np.mean(MotifES_data) + np.std(MotifES_data)])\n",
    "    start[\"EXP_mean\"] = np.array([np.mean(EXP_data), np.mean(EXP_data) + np.std(EXP_data)])\n",
    "    start[\"JSD_mu\"] = np.array([np.mean(JSD_data), np.mean(JSD_data) + np.std(JSD_data)])\n",
    "    # MCMC sampling\n",
    "    step1=pm.NUTS()\n",
    "    step2=pm.BinaryMetropolis([cluster],scaling=0.01)\n",
    "    idata=pm.sample(20000,start=start,step=[step1,step2]) # adjust steps as needed"
   ]
  },
  {
   "cell_type": "code",
   "execution_count": null,
   "id": "f474946b",
   "metadata": {},
   "outputs": [],
   "source": [
    "# check trace plot\n",
    "#az.plot_trace(idata)\n",
    "#az.plot_trace(idata, var_names=[\"SERA_mean\"])\n",
    "#az.plot_trace(idata, var_names=[\"SERA_sigma\"])"
   ]
  },
  {
   "cell_type": "code",
   "execution_count": null,
   "id": "50d3b980",
   "metadata": {},
   "outputs": [],
   "source": [
    "# check variable summary statics\n",
    "az.summary(idata, var_names=[\"SERA_mean\"])"
   ]
  },
  {
   "cell_type": "code",
   "execution_count": null,
   "id": "ab414892",
   "metadata": {},
   "outputs": [],
   "source": [
    "# calculate log odd ratio based on MCMC result\n",
    "def calLogRatio(data_list, idata, var_mean, var_sigma ):\n",
    "    \"\"\" Given two normal distribution, calculate the likehood ratio of a dataPoint belong to which normal distribution\n",
    "    \"\"\"\n",
    "    mean1,mean2=az.summary(idata, var_names=[var_mean])[\"mean\"]\n",
    "    sigma1,sigma2=az.summary(idata, var_names=[var_sigma])[\"mean\"]\n",
    "    logRatio_list=[(norm.logpdf(datapoint, loc=mean2, scale=sigma2)-norm.logpdf(datapoint, loc=mean1, scale=sigma1)) for datapoint in data_list]\n",
    "    return logRatio_list"
   ]
  },
  {
   "cell_type": "code",
   "execution_count": null,
   "id": "3ce0731a",
   "metadata": {},
   "outputs": [],
   "source": [
    "SERA_logRatio_list=calLogRatio(SERA_data, idata, \"SERA_mean\", \"SERA_sigma\" )\n",
    "MotifES_logRatio_list=calLogRatio(MotifES_data, idata, \"MotifES_mean\", \"MotifES_sigma\" )\n",
    "EXP_logRatio_list=calLogRatio(EXP_data, idata, \"EXP_mean\", \"EXP_sigma\" )\n",
    "JSD_logRatio_list=calLogRatio(JSD_data, idata, \"JSD_mean\", \"JSD_sigma\" )\n",
    "logRatio_dict={\"TF_Symbol\": TF_symbol_list, \"SERA_logRatio\": SERA_logRatio_list, \"MotifES_logRatio\":MotifES_logRatio_list, \\\n",
    "               \"EXP_logRatio\": EXP_logRatio_list, \"JSD_logRatio\": JSD_logRatio_list}\n",
    "logRatio_df=pd.DataFrame(logRatio_dict)\n",
    "logRatio_df[\"combined\"] = logRatio_df[\"SERA_logRatio\"] + logRatio_df[\"MotifES_logRatio\"] +\\\n",
    "                                        logRatio_df[\"EXP_logRatio\"] + logRatio_df[\"JSD_logRatio\"]"
   ]
  },
  {
   "cell_type": "code",
   "execution_count": null,
   "id": "3014f5b0",
   "metadata": {},
   "outputs": [],
   "source": [
    "# sort based on combined score\n",
    "logRatio_df=logRatio_df.sort_values('combined',ascending=False)\n",
    "logRatio_df=logRatio_df.reset_index(drop=True)\n",
    "logRatio_df.head()"
   ]
  },
  {
   "cell_type": "code",
   "execution_count": null,
   "id": "19e77292",
   "metadata": {},
   "outputs": [],
   "source": [
    "# get top 50 predicted MTF candidates\n",
    "MTF_top50=logRatio_df.loc[:50,\"TF_Symbol\"]\n",
    "# save result to file  \n",
    "MTF_top50.to_csv('query_combinedlog2Scores_result_top50_MTF_candidates.txt',sep=\"\\t\")"
   ]
  }
 ],
 "metadata": {
  "kernelspec": {
   "display_name": "Python 3 (ipykernel)",
   "language": "python",
   "name": "python3"
  },
  "language_info": {
   "codemirror_mode": {
    "name": "ipython",
    "version": 3
   },
   "file_extension": ".py",
   "mimetype": "text/x-python",
   "name": "python",
   "nbconvert_exporter": "python",
   "pygments_lexer": "ipython3",
   "version": "3.9.13"
  }
 },
 "nbformat": 4,
 "nbformat_minor": 5
}
