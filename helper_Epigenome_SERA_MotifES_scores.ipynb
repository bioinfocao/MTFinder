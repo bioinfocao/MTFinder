{
 "cells": [
  {
   "cell_type": "code",
   "execution_count": null,
   "id": "a3caafcd",
   "metadata": {},
   "outputs": [],
   "source": [
    "# calculate epigenome based SERA (super enhancer regulatory activity) \n",
    "# and MotifES (Motif Enrichment Score) scores\n",
    "# Start with: super enhancer data files generated with ROSE package\n",
    "# and HOMER motif enrichment analysis result files with findMotifsGenome"
   ]
  },
  {
   "cell_type": "code",
   "execution_count": null,
   "id": "884fc011",
   "metadata": {},
   "outputs": [],
   "source": [
    "import pandas as pd\n",
    "import glob\n",
    "import os.path\n",
    "import numpy as np"
   ]
  },
  {
   "cell_type": "code",
   "execution_count": null,
   "id": "ba022890",
   "metadata": {},
   "outputs": [],
   "source": [
    "# Start with super enhancer data files generated with ROSE package\n",
    "# http://younglab.wi.mit.edu/super_enhancer_code.html\n",
    "rose_SE_dir=\"path-to-super-enhancer-folder/superenhancer_rose_out/\"\n",
    "# get all sample_SuperEnhancers.table.txt files\n",
    "SE_files=glob.glob(rose_SE_dir+\"*/*_SuperEnhancers.table.txt\")"
   ]
  },
  {
   "cell_type": "code",
   "execution_count": null,
   "id": "22f60933",
   "metadata": {},
   "outputs": [],
   "source": [
    "# get the transcription start site (TSS) for all genes, data from Gencode\n",
    "mouse_TSS_file=\"data/UCSC_mm10_GencodeCompVM25_wSymbol_TSS.txt\"\n",
    "mouse_TSS_df=pd.read_csv(mouse_TSS_file,sep=\"\\t\")\n",
    "mouse_TSS_df.head()"
   ]
  },
  {
   "cell_type": "code",
   "execution_count": null,
   "id": "fa59d8db",
   "metadata": {},
   "outputs": [],
   "source": [
    "# extract all transcription factors' TSS\n",
    "# annotation of genome-wide transcription factors (TFs) download from AnimalTFDB database\n",
    "# http://bioinfo.life.hust.edu.cn/AnimalTFDB/#!/\n",
    "mouse_TF_df=pd.read_csv(\"data/AnimalTFDB_Mus_musculus_TF.txt\",sep=\"\\t\",index_col=0)\n",
    "# get TFs symbols\n",
    "TF_symbols=set(mouse_TF_df.Symbol)\n",
    "mouse_TSS_df_tf=mouse_TSS_df[mouse_TSS_df['geneName'].isin(TF_symbols)]\n",
    "mouse_TSS_df_tf.head()"
   ]
  },
  {
   "cell_type": "code",
   "execution_count": null,
   "id": "4ba9246b",
   "metadata": {},
   "outputs": [],
   "source": [
    "# sort TF names\n",
    "mouse_TSS_tf_names_sorted=list(mouse_TSS_df_tf.drop_duplicates(\"geneName\").sort_values('geneName')[\"geneName\"])"
   ]
  },
  {
   "cell_type": "code",
   "execution_count": null,
   "id": "f4107fcb",
   "metadata": {},
   "outputs": [],
   "source": [
    "# calculate SERA (super enhancer regulatory activity)\n",
    "def regulatoryActivity(SE_df, chrom, TSS, upstream=500000, downstream=500000):\n",
    "    df_selected=SE_df.loc[(SE_df[\"CHROM\"]==chrom) & (SE_df[\"center\"]>(TSS-upstream)) & (SE_df[\"center\"]<(TSS+downstream))]\n",
    "    ra_list=[signal*(2**(-(abs(TSS-center)/20000))) for signal,center in zip(df_selected.iloc[:,-4], df_selected.iloc[:,-1])]\n",
    "    ra_sum=sum(ra_list)\n",
    "    return ra_sum"
   ]
  },
  {
   "cell_type": "code",
   "execution_count": null,
   "id": "d306a57b",
   "metadata": {},
   "outputs": [],
   "source": [
    "# get SERA for all TFs\n",
    "def getSERA(se_file, tf_df, result_dict):\n",
    "    SE_signal_df=pd.read_csv(se_file,sep=\"\\t\",skiprows=5)\n",
    "    SE_signal_df[\"center\"]=SE_signal_df.apply(lambda row: (row.START + row.STOP)/2, axis=1)\n",
    "    sampleName=os.path.split(se_file)[-1].replace(\"_SuperEnhancers.table.txt\",\"\")\n",
    "    print(\"processing: {0}\".format(se_file))\n",
    "    tf_df_new=tf_df.copy(deep=True)\n",
    "    tf_df_new[\"SE_ra\"]=tf_df_new.apply(lambda row: regulatoryActivity(SE_signal_df, row.chrom, row.TSS), axis=1)\n",
    "    tf_df_new_max=tf_df_new.sort_values('SE_ra', ascending=False).drop_duplicates(\"geneName\")\n",
    "    tf_df_new_max=tf_df_new_max.loc[:,[\"geneId\",\"geneName\",\"SE_ra\"]].sort_values('geneName')\n",
    "    tf_df_new_max.to_csv(se_file.replace(\"_SuperEnhancers.table.txt\",\"_SuperEnhancers.table.TF_SERA.txt\"),sep=\"\\t\",index=False)\n",
    "    result_dict[sampleName]=list(tf_df_new_max[\"SE_ra\"])"
   ]
  },
  {
   "cell_type": "code",
   "execution_count": null,
   "id": "ad60e27d",
   "metadata": {},
   "outputs": [],
   "source": [
    "# loop through all sample_SuperEnhancers.table.txt\n",
    "sample_SERA_dict={\"TFNamesSorted\":mouse_TSS_tf_names_sorted}\n",
    "for se_file in SE_files:\n",
    "    getSERA(se_file, mouse_TSS_df_tf, sample_SERA_dict)"
   ]
  },
  {
   "cell_type": "code",
   "execution_count": null,
   "id": "6a95af07",
   "metadata": {},
   "outputs": [],
   "source": [
    "# create dataframe\n",
    "sample_SERA_df=pd.DataFrame(sample_SERA_dict)\n",
    "# perform log2 transformation\n",
    "sample_SERA_df = np.log2(sample_SERA_df+1) # apply log2(v+1)\n",
    "# Export to file\n",
    "sample_SERA_df.to_csv(rose_SE_dir+\"mouse_TF_SERA_scores.txt\",sep=\"\\t\",index=False)"
   ]
  },
  {
   "cell_type": "code",
   "execution_count": null,
   "id": "acdd5fb3",
   "metadata": {},
   "outputs": [],
   "source": [
    "# for motif enrichment score\n",
    "# start with HOMER motif enrichment analysis result files with findMotifsGenome\n",
    "# http://homer.ucsd.edu/homer/ngs/peakMotifs.html\n",
    "homer_result_files=glob.glob(SE_out_dir+\"*/*_homer_wIMAGEmotifs/knownResults.txt\")\n",
    "# For HOMER motif enrichment analysis, We use near-complete database of position weight matrices (PWMs)\n",
    "# from IMAGE package, https://github.com/JesperGrud/IMAGE\n",
    "IMAGE_motif_SYMBOL_file=\"data/motifs/IMAGE_v1/Genename_Motif.txt\"\n",
    "IMAGE_motif_SYMBOL_df=pd.read_csv(IMAGE_motif_SYMBOL_file,sep=\"\\t\",names=[\"Symbol\",\"motif\",\"inferOrDirect\"])\n",
    "IMAGE_motif_SYMBOL_df.head()"
   ]
  },
  {
   "cell_type": "code",
   "execution_count": null,
   "id": "d186b417",
   "metadata": {},
   "outputs": [],
   "source": [
    "IMAGE_motif_SYMBOL_dict=dict(zip(IMAGE_motif_SYMBOL_df.motif, IMAGE_motif_SYMBOL_df.Symbol))"
   ]
  },
  {
   "cell_type": "code",
   "execution_count": null,
   "id": "8d0b2cd3",
   "metadata": {},
   "outputs": [],
   "source": [
    "# extract motif enrichment log p values from HOMER motif enrichment analysis result files\n",
    "def getMotifLogPvalue(homer_result_file):\n",
    "    homer_result_df=pd.read_csv(homer_result_file,sep=\"\\t\")\n",
    "    sampleName=os.path.basename(os.path.dirname(homer_result_file)).replace(\"_homer_wIMAGEmotifs\",\"\")\n",
    "    homer_result_df=homer_result_df.sort_values('Motif Name')\n",
    "    Motif_list=list(homer_result_df[\"Motif Name\"])\n",
    "    LogPvalue_list=list(homer_result_df[\"Log P-value\"])\n",
    "    return (sampleName, Motif_list, LogPvalue_list)"
   ]
  },
  {
   "cell_type": "code",
   "execution_count": null,
   "id": "4fd59bbd",
   "metadata": {},
   "outputs": [],
   "source": [
    "# get MotifES scores for all samples\n",
    "homer_result_dict={}\n",
    "for homer_result_file in homer_result_files:\n",
    "    (sampleName, Motifs, LogPvalue_list)=getMotifLogPvalue(homer_result_file)\n",
    "    LogPvalue_list=[0-el for el in LogPvalue_list]\n",
    "    homer_result_dict[sampleName]=LogPvalue_list\n",
    "homer_result_dict[\"Motifs\"]=Motifs\n",
    "# create dataframe\n",
    "homer_result_df=pd.DataFrame(homer_result_dict)\n",
    "homer_result_df.head()"
   ]
  },
  {
   "cell_type": "code",
   "execution_count": null,
   "id": "41a3164d",
   "metadata": {},
   "outputs": [],
   "source": [
    "# Export to file\n",
    "homer_result_df.to_csv(rose_SE_dir+\"mouse_TF_MotifES_scores.txt\",sep=\"\\t\",index=False)"
   ]
  },
  {
   "cell_type": "code",
   "execution_count": null,
   "id": "5e90b35d",
   "metadata": {},
   "outputs": [],
   "source": []
  }
 ],
 "metadata": {
  "kernelspec": {
   "display_name": "Python 3 (ipykernel)",
   "language": "python",
   "name": "python3"
  },
  "language_info": {
   "codemirror_mode": {
    "name": "ipython",
    "version": 3
   },
   "file_extension": ".py",
   "mimetype": "text/x-python",
   "name": "python",
   "nbconvert_exporter": "python",
   "pygments_lexer": "ipython3",
   "version": "3.9.13"
  }
 },
 "nbformat": 4,
 "nbformat_minor": 5
}
